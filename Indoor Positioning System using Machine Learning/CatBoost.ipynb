{
 "cells": [
  {
   "cell_type": "code",
   "execution_count": 1,
   "metadata": {},
   "outputs": [],
   "source": [
    "#!pip install catboost"
   ]
  },
  {
   "cell_type": "code",
   "execution_count": 2,
   "metadata": {},
   "outputs": [],
   "source": [
    "from sklearn.model_selection import train_test_split\n",
    "from sklearn.model_selection import cross_val_score, KFold\n",
    "from sklearn import model_selection\n",
    "import lightgbm as lgb\n",
    "from catboost import CatBoostRegressor\n",
    "from sklearn.metrics import mean_squared_error\n",
    "import matplotlib.pyplot as plt\n",
    "import pandas as pd\n",
    "import numpy as np\n",
    "import datetime\n",
    "import lightgbm as lgb\n",
    "import numpy as np\n",
    "import os\n",
    "import pandas as pd\n",
    "import random\n",
    "from tqdm import tqdm\n",
    "from sklearn.model_selection import train_test_split"
   ]
  },
  {
   "cell_type": "code",
   "execution_count": 3,
   "metadata": {},
   "outputs": [
    {
     "data": {
      "text/plain": [
       "(1916, 10)"
      ]
     },
     "execution_count": 3,
     "metadata": {},
     "output_type": "execute_result"
    }
   ],
   "source": [
    "df =pd.read_csv('beacons.csv')\n",
    "df.shape"
   ]
  },
  {
   "cell_type": "code",
   "execution_count": 4,
   "metadata": {},
   "outputs": [],
   "source": [
    "X =  df.iloc[:1700,3:]\n",
    "y =   df.iloc[:1700,1:3]\n",
    "X1 =  df.iloc[1700:,3:]\n",
    "y1 =   df.iloc[1700:,1:3]"
   ]
  },
  {
   "cell_type": "code",
   "execution_count": 5,
   "metadata": {},
   "outputs": [
    {
     "data": {
      "text/plain": [
       "0       5.0\n",
       "1       5.0\n",
       "2       5.0\n",
       "3       5.0\n",
       "4       5.0\n",
       "       ... \n",
       "1695    5.4\n",
       "1696    5.4\n",
       "1697    5.4\n",
       "1698    5.4\n",
       "1699    5.4\n",
       "Name: x, Length: 1700, dtype: float64"
      ]
     },
     "execution_count": 5,
     "metadata": {},
     "output_type": "execute_result"
    }
   ],
   "source": [
    "y['x']"
   ]
  },
  {
   "cell_type": "code",
   "execution_count": 6,
   "metadata": {},
   "outputs": [
    {
     "data": {
      "text/plain": [
       "<catboost.core.CatBoostRegressor at 0x259e7d24b38>"
      ]
     },
     "execution_count": 6,
     "metadata": {},
     "output_type": "execute_result"
    }
   ],
   "source": [
    "model=CatBoostRegressor(iterations=1000, learning_rate=1.0,  loss_function='MAE', logging_level='Silent')\n",
    "model.fit(X, y['y'])"
   ]
  },
  {
   "cell_type": "code",
   "execution_count": 7,
   "metadata": {},
   "outputs": [
    {
     "data": {
      "text/plain": [
       "<catboost.core.CatBoostRegressor at 0x259e7d74080>"
      ]
     },
     "execution_count": 7,
     "metadata": {},
     "output_type": "execute_result"
    }
   ],
   "source": [
    "model1=CatBoostRegressor(iterations=1000, learning_rate=1.0,  loss_function='MAE', logging_level='Silent')\n",
    "model1.fit(X, y['x'])"
   ]
  },
  {
   "cell_type": "code",
   "execution_count": 8,
   "metadata": {},
   "outputs": [
    {
     "data": {
      "text/plain": [
       "5.798585557147519"
      ]
     },
     "execution_count": 8,
     "metadata": {},
     "output_type": "execute_result"
    }
   ],
   "source": [
    "predictions = model.predict(X1)\n",
    "prediction= model1.predict(X1)\n",
    "\n",
    "predictions = pd.DataFrame(predictions)\n",
    "predictions = predictions.rename(columns={0:'a'})\n",
    "prediction = pd.DataFrame(prediction)\n",
    "prediction = prediction.rename(columns={0:'b'})\n",
    "\n",
    "y1 =y1.reset_index()\n",
    "y1['a'] = predictions['a']\n",
    "y1['b'] = prediction['b']\n",
    "\n",
    "y1['distance']=np.sqrt((y1['x']-y1['a'])**2+(y1['y']-y1['b'])**2)\n",
    "y1['distance'].mean()\n"
   ]
  },
  {
   "cell_type": "code",
   "execution_count": 9,
   "metadata": {},
   "outputs": [],
   "source": [
    "from sklearn import metrics\n",
    "\n",
    "maex = metrics.mean_absolute_error(y1['x'],y1['a'])\n",
    "maey= metrics.mean_absolute_error(y1['y'],y1['b'])\n",
    "maeauto = (maex + maey)/2"
   ]
  },
  {
   "cell_type": "code",
   "execution_count": 10,
   "metadata": {},
   "outputs": [],
   "source": [
    "msex = metrics.mean_squared_error(y1['x'],y1['a'])\n",
    "msey= metrics.mean_squared_error(y1['y'],y1['b'])\n",
    "msemain = (msex + msey)/2"
   ]
  },
  {
   "cell_type": "code",
   "execution_count": 11,
   "metadata": {},
   "outputs": [],
   "source": [
    "rmsex = np.sqrt(metrics.mean_squared_error(y1['x'],y1['a']))\n",
    "rmsey= np.sqrt(metrics.mean_squared_error(y1['y'],y1['b']))\n",
    "rmsemain = (rmsex + rmsey)/2"
   ]
  },
  {
   "cell_type": "code",
   "execution_count": 12,
   "metadata": {},
   "outputs": [
    {
     "name": "stdout",
     "output_type": "stream",
     "text": [
      "Mean absolute error :  3.7430940424070487\n",
      "Mean squared error :  20.9741923587729\n",
      "Root Mean squared error :  4.533196983910623\n"
     ]
    }
   ],
   "source": [
    "print(\"Mean absolute error : \", maeauto.mean())\n",
    "print(\"Mean squared error : \", msemain.mean())\n",
    "print(\"Root Mean squared error : \", rmsemain.mean())"
   ]
  },
  {
   "cell_type": "code",
   "execution_count": 16,
   "metadata": {},
   "outputs": [],
   "source": [
    "a = pd.DataFrame(model1.predict(X1))\n",
    "b = pd.DataFrame(model.predict(X1))\n",
    "b = b.rename(columns={0:'bc1'})\n",
    "c = pd.concat([a,b],axis=1)\n",
    "c = c.rename(columns={0:'bc2'})\n",
    "preds = c.values\n",
    "\n",
    "\n",
    "Y_test = y1[['a','b']]\n",
    "Y_test = Y_test.values"
   ]
  },
  {
   "cell_type": "code",
   "execution_count": 17,
   "metadata": {},
   "outputs": [
    {
     "name": "stdout",
     "output_type": "stream",
     "text": [
      "3.9240507541381584\n"
     ]
    }
   ],
   "source": [
    "def l2_dist(p1, p2):\n",
    "    x1,y1 = p1\n",
    "    x2,y2 = p2\n",
    "    x1, y1 = np.array(x1), np.array(y1)\n",
    "    x2, y2 = np.array(x2), np.array(y2)\n",
    "    dx = x1 - x2\n",
    "    dy = y1 - y2\n",
    "    dx = dx ** 2\n",
    "    dy = dy ** 2\n",
    "    dists = dx + dy\n",
    "    dists = np.sqrt(dists)\n",
    "    return np.mean(dists), dists\n",
    "\n",
    "#preds = ada_reg1.predict(X1)\n",
    "l2dists_mean, l2dists = l2_dist((preds[:, 0], preds[:, 1]), (Y_test[:, 0] , Y_test[:, 0]))\n",
    "print(l2dists_mean)"
   ]
  },
  {
   "cell_type": "code",
   "execution_count": 18,
   "metadata": {},
   "outputs": [
    {
     "name": "stdout",
     "output_type": "stream",
     "text": [
      "3.9240507541381584\n"
     ]
    }
   ],
   "source": [
    "l2dists_mean, l2dists = l2_dist((preds[:, 0], preds[:, 1]), (Y_test[:, 0] , Y_test[:, 0]))\n",
    "print(l2dists_mean)"
   ]
  },
  {
   "cell_type": "code",
   "execution_count": 19,
   "metadata": {},
   "outputs": [
    {
     "data": {
      "image/png": "[encoded data removed]",
      "text/plain": [
       "<Figure size 432x288 with 1 Axes>"
      ]
     },
     "metadata": {},
     "output_type": "display_data"
    }
   ],
   "source": [
    "import numpy as np \n",
    "sortedl2_deep = np.sort(l2dists)\n",
    "prob_deep = 1. * np.arange(len(sortedl2_deep))/(len(sortedl2_deep) - 1)\n",
    "fig, ax = plt.subplots()\n",
    "lg1, = ax.plot(sortedl2_deep, prob_deep, color='black')\n",
    "plt.title('CDF of Euclidean distance error')\n",
    "plt.xlabel('Distance (m)')\n",
    "plt.ylabel('Probability')\n",
    "plt.grid(True)\n",
    "gridlines = ax.get_xgridlines() + ax.get_ygridlines()\n",
    "for line in gridlines:\n",
    "    line.set_linestyle('-.')\n",
    "\n",
    "plt.savefig('Figure_CDF_error.png', dpi=300)\n",
    "plt.show()\n",
    "plt.close()"
   ]
  }
 ],
 "metadata": {
  "kernelspec": {
   "display_name": "Python 3",
   "language": "python",
   "name": "python3"
  },
  "language_info": {
   "codemirror_mode": {
    "name": "ipython",
    "version": 3
   },
   "file_extension": ".py",
   "mimetype": "text/x-python",
   "name": "python",
   "nbconvert_exporter": "python",
   "pygments_lexer": "ipython3",
   "version": "3.6.5"
  }
 },
 "nbformat": 4,
 "nbformat_minor": 2
}
