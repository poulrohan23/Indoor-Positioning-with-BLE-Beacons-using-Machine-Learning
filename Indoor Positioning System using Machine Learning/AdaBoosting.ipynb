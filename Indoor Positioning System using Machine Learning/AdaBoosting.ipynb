{
 "cells": [
  {
   "cell_type": "code",
   "execution_count": 6,
   "metadata": {},
   "outputs": [],
   "source": [
    "from sklearn.ensemble import AdaBoostRegressor\n",
    "from sklearn.model_selection import train_test_split\n",
    "from sklearn.model_selection import cross_val_score, KFold\n",
    "from sklearn.metrics import mean_squared_error\n",
    "import matplotlib.pyplot as plt\n",
    "import pandas as pd\n",
    "import numpy as np"
   ]
  },
  {
   "cell_type": "code",
   "execution_count": 7,
   "metadata": {},
   "outputs": [
    {
     "data": {
      "text/plain": [
       "(1916, 10)"
      ]
     },
     "execution_count": 7,
     "metadata": {},
     "output_type": "execute_result"
    }
   ],
   "source": [
    "df =pd.read_csv('beacons.csv')\n",
    "df.shape"
   ]
  },
  {
   "cell_type": "code",
   "execution_count": 8,
   "metadata": {},
   "outputs": [],
   "source": [
    "X =  df.iloc[:1700,3:]\n",
    "y =   df.iloc[:1700,1:3]\n",
    "X1 =  df.iloc[1700:,3:]\n",
    "y1 =   df.iloc[1700:,1:3]"
   ]
  },
  {
   "cell_type": "code",
   "execution_count": 9,
   "metadata": {},
   "outputs": [
    {
     "data": {
      "text/plain": [
       "0       5.0\n",
       "1       5.0\n",
       "2       5.0\n",
       "3       5.0\n",
       "4       5.0\n",
       "       ... \n",
       "1695    5.4\n",
       "1696    5.4\n",
       "1697    5.4\n",
       "1698    5.4\n",
       "1699    5.4\n",
       "Name: x, Length: 1700, dtype: float64"
      ]
     },
     "execution_count": 9,
     "metadata": {},
     "output_type": "execute_result"
    }
   ],
   "source": [
    "y['x']"
   ]
  },
  {
   "cell_type": "code",
   "execution_count": 10,
   "metadata": {},
   "outputs": [
    {
     "name": "stdout",
     "output_type": "stream",
     "text": [
      "AdaBoostRegressor(base_estimator=None, learning_rate=1.0, loss='linear',\n",
      "                  n_estimators=100, random_state=None)\n"
     ]
    },
    {
     "data": {
      "text/plain": [
       "AdaBoostRegressor(base_estimator=None, learning_rate=1.0, loss='linear',\n",
       "                  n_estimators=100, random_state=None)"
      ]
     },
     "execution_count": 10,
     "metadata": {},
     "output_type": "execute_result"
    }
   ],
   "source": [
    "ada_reg = AdaBoostRegressor(n_estimators=100)\n",
    "print(ada_reg)\n",
    "    \n",
    "ada_reg.fit(X, y['x'])\n",
    "\n"
   ]
  },
  {
   "cell_type": "code",
   "execution_count": 11,
   "metadata": {},
   "outputs": [
    {
     "name": "stdout",
     "output_type": "stream",
     "text": [
      "AdaBoostRegressor(base_estimator=None, learning_rate=1.0, loss='linear',\n",
      "                  n_estimators=100, random_state=None)\n"
     ]
    },
    {
     "data": {
      "text/plain": [
       "AdaBoostRegressor(base_estimator=None, learning_rate=1.0, loss='linear',\n",
       "                  n_estimators=100, random_state=None)"
      ]
     },
     "execution_count": 11,
     "metadata": {},
     "output_type": "execute_result"
    }
   ],
   "source": [
    "ada_reg1 = AdaBoostRegressor(n_estimators=100)\n",
    "print(ada_reg)\n",
    "    \n",
    "ada_reg1.fit(X, y['y'])\n"
   ]
  },
  {
   "cell_type": "code",
   "execution_count": 12,
   "metadata": {},
   "outputs": [
    {
     "data": {
      "text/plain": [
       "3.811125649755214"
      ]
     },
     "execution_count": 12,
     "metadata": {},
     "output_type": "execute_result"
    }
   ],
   "source": [
    "predictions = ada_reg.predict(X1)\n",
    "prediction= ada_reg1.predict(X1)\n",
    "\n",
    "predictions = pd.DataFrame(predictions)\n",
    "predictions = predictions.rename(columns={0:'a'})\n",
    "prediction = pd.DataFrame(prediction)\n",
    "prediction = prediction.rename(columns={0:'b'})\n",
    "\n",
    "y1 =y1.reset_index()\n",
    "y1['a'] = predictions['a']\n",
    "y1['b'] = prediction['b']\n",
    "\n",
    "y1['distance']=np.sqrt((y1['x']-y1['a'])**2+(y1['y']-y1['b'])**2)\n",
    "y1['distance'].mean()\n"
   ]
  },
  {
   "cell_type": "code",
   "execution_count": 13,
   "metadata": {},
   "outputs": [],
   "source": [
    "from sklearn import metrics\n",
    "\n",
    "maex = metrics.mean_absolute_error(y1['x'],y1['a'])\n",
    "maey= metrics.mean_absolute_error(y1['y'],y1['b'])\n",
    "maeauto = (maex + maey)/2"
   ]
  },
  {
   "cell_type": "code",
   "execution_count": 14,
   "metadata": {},
   "outputs": [],
   "source": [
    "msex = metrics.mean_squared_error(y1['x'],y1['a'])\n",
    "msey= metrics.mean_squared_error(y1['y'],y1['b'])\n",
    "msemain = (msex + msey)/2"
   ]
  },
  {
   "cell_type": "code",
   "execution_count": 15,
   "metadata": {},
   "outputs": [],
   "source": [
    "rmsex = np.sqrt(metrics.mean_squared_error(y1['x'],y1['a']))\n",
    "rmsey= np.sqrt(metrics.mean_squared_error(y1['y'],y1['b']))\n",
    "rmsemain = (rmsex + rmsey)/2"
   ]
  },
  {
   "cell_type": "code",
   "execution_count": 16,
   "metadata": {},
   "outputs": [
    {
     "name": "stdout",
     "output_type": "stream",
     "text": [
      "Mean absolute error :  2.4984747142945003\n",
      "Mean squared error :  8.858251512650575\n",
      "Root Mean squared error :  2.971867596429616\n"
     ]
    }
   ],
   "source": [
    "print(\"Mean absolute error : \", maeauto.mean())\n",
    "print(\"Mean squared error : \", msemain.mean())\n",
    "print(\"Root Mean squared error : \", rmsemain.mean())"
   ]
  },
  {
   "cell_type": "code",
   "execution_count": 65,
   "metadata": {},
   "outputs": [
    {
     "data": {
      "text/html": [
       "<div>\n",
       "<style scoped>\n",
       "    .dataframe tbody tr th:only-of-type {\n",
       "        vertical-align: middle;\n",
       "    }\n",
       "\n",
       "    .dataframe tbody tr th {\n",
       "        vertical-align: top;\n",
       "    }\n",
       "\n",
       "    .dataframe thead th {\n",
       "        text-align: right;\n",
       "    }\n",
       "</style>\n",
       "<table border=\"1\" class=\"dataframe\">\n",
       "  <thead>\n",
       "    <tr style=\"text-align: right;\">\n",
       "      <th></th>\n",
       "      <th>Rmse</th>\n",
       "      <th>Mae</th>\n",
       "      <th>name</th>\n",
       "    </tr>\n",
       "  </thead>\n",
       "  <tbody>\n",
       "    <tr>\n",
       "      <th>0</th>\n",
       "      <td>2.92</td>\n",
       "      <td>2.42</td>\n",
       "      <td>Ada</td>\n",
       "    </tr>\n",
       "    <tr>\n",
       "      <th>1</th>\n",
       "      <td>3.68</td>\n",
       "      <td>2.81</td>\n",
       "      <td>xg</td>\n",
       "    </tr>\n",
       "    <tr>\n",
       "      <th>2</th>\n",
       "      <td>3.70</td>\n",
       "      <td>2.73</td>\n",
       "      <td>Gradient</td>\n",
       "    </tr>\n",
       "  </tbody>\n",
       "</table>\n",
       "</div>"
      ],
      "text/plain": [
       "   Rmse   Mae      name\n",
       "0  2.92  2.42       Ada\n",
       "1  3.68  2.81        xg\n",
       "2  3.70  2.73  Gradient"
      ]
     },
     "execution_count": 65,
     "metadata": {},
     "output_type": "execute_result"
    }
   ],
   "source": [
    "#boxplot\n",
    "new =  pd.DataFrame()\n",
    "new['Rmse'] =[2.92,3.68,3.70]\n",
    "new['Mae'] =[2.42,2.81,2.73]\n",
    "new['name'] = ['Ada','xg','Gradient']\n",
    "new"
   ]
  },
  {
   "cell_type": "code",
   "execution_count": 66,
   "metadata": {},
   "outputs": [
    {
     "data": {
      "image/png": "[encoded data removed]",
      "text/plain": [
       "<Figure size 432x288 with 1 Axes>"
      ]
     },
     "metadata": {},
     "output_type": "display_data"
    }
   ],
   "source": [
    "import seaborn as sns\n",
    "sns.set(style=\"whitegrid\")\n",
    "\n",
    "ax = sns.boxplot(x=new[\"Rmse\"])"
   ]
  },
  {
   "cell_type": "code",
   "execution_count": null,
   "metadata": {},
   "outputs": [],
   "source": [
    "a = pd.DataFrame(ada_reg1.predict(X1))\n",
    "b = pd.DataFrame(ada_reg.predict(X1))\n",
    "b = b.rename(columns={0:'bc1'})\n",
    "c = pd.concat([a,b],axis=1)\n",
    "c = c.rename(columns={0:'bc2'})\n",
    "preds = c.values\n",
    "\n",
    "\n",
    "Y_test = y1[['a','b']]\n",
    "Y_test = Y_test.values"
   ]
  },
  {
   "cell_type": "code",
   "execution_count": 58,
   "metadata": {},
   "outputs": [
    {
     "name": "stdout",
     "output_type": "stream",
     "text": [
      "2.425648934607929\n"
     ]
    }
   ],
   "source": [
    "def l2_dist(p1, p2):\n",
    "    x1,y1 = p1\n",
    "    x2,y2 = p2\n",
    "    x1, y1 = np.array(x1), np.array(y1)\n",
    "    x2, y2 = np.array(x2), np.array(y2)\n",
    "    dx = x1 - x2\n",
    "    dy = y1 - y2\n",
    "    dx = dx ** 2\n",
    "    dy = dy ** 2\n",
    "    dists = dx + dy\n",
    "    dists = np.sqrt(dists)\n",
    "    return np.mean(dists), dists\n",
    "\n",
    "#preds = ada_reg1.predict(X1)\n",
    "l2dists_mean, l2dists = l2_dist((preds[:, 0], preds[:, 1]), (Y_test[:, 0] , Y_test[:, 0]))\n",
    "print(l2dists_mean)"
   ]
  },
  {
   "cell_type": "code",
   "execution_count": 56,
   "metadata": {},
   "outputs": [],
   "source": []
  },
  {
   "cell_type": "code",
   "execution_count": 57,
   "metadata": {},
   "outputs": [
    {
     "data": {
      "text/plain": [
       "array([[ 2.99010753,  7.5124424 ],\n",
       "       [ 3.11077586,  7.5124424 ],\n",
       "       [ 3.11077586,  9.40629921],\n",
       "       [ 3.41264108,  9.0087146 ],\n",
       "       [ 3.11077586,  7.5124424 ],\n",
       "       [ 3.1253112 ,  9.0087146 ],\n",
       "       [ 3.1253112 ,  9.01818182],\n",
       "       [ 3.1253112 ,  9.0087146 ],\n",
       "       [ 2.3503268 ,  9.21489362],\n",
       "       [ 2.5       ,  9.21489362],\n",
       "       [ 3.11077586,  7.27016667],\n",
       "       [ 3.1253112 ,  9.0087146 ],\n",
       "       [ 3.1253112 ,  9.21489362],\n",
       "       [ 2.5       ,  9.21489362],\n",
       "       [ 3.1253112 ,  9.21489362],\n",
       "       [ 3.0888    ,  9.21489362],\n",
       "       [ 3.1253112 ,  9.21489362],\n",
       "       [ 3.41264108,  4.63968254],\n",
       "       [ 3.53296943,  6.5625    ],\n",
       "       [ 2.99010753,  6.35896825],\n",
       "       [ 3.11077586,  7.5124424 ],\n",
       "       [ 3.11077586,  9.0087146 ],\n",
       "       [ 3.41264108,  7.5124424 ],\n",
       "       [ 3.41264108,  9.01818182],\n",
       "       [ 3.1253112 ,  7.5124424 ],\n",
       "       [ 3.11077586,  7.27016667],\n",
       "       [ 3.1253112 ,  9.21489362],\n",
       "       [ 3.41264108,  9.0087146 ],\n",
       "       [ 3.1253112 ,  9.0087146 ],\n",
       "       [ 2.99010753,  9.40629921],\n",
       "       [ 3.1253112 ,  7.5124424 ],\n",
       "       [ 3.11077586,  7.5124424 ],\n",
       "       [ 3.11077586,  6.97712418],\n",
       "       [ 3.1253112 ,  9.0087146 ],\n",
       "       [ 3.11077586,  7.5124424 ],\n",
       "       [ 3.11077586,  7.5124424 ],\n",
       "       [ 2.99010753,  9.0087146 ],\n",
       "       [ 3.1253112 ,  9.0087146 ],\n",
       "       [ 3.11077586,  7.27016667],\n",
       "       [ 3.1253112 ,  7.5124424 ],\n",
       "       [ 3.41264108,  7.27016667],\n",
       "       [ 3.11077586,  6.35896825],\n",
       "       [ 3.1253112 ,  7.5124424 ],\n",
       "       [ 2.99010753,  7.5124424 ],\n",
       "       [ 3.11077586,  7.27016667],\n",
       "       [ 3.11077586,  7.27016667],\n",
       "       [ 3.2078125 ,  7.5124424 ],\n",
       "       [ 2.99010753,  9.40629921],\n",
       "       [ 3.41264108,  9.01818182],\n",
       "       [ 3.11077586,  7.5124424 ],\n",
       "       [ 3.11077586,  6.97712418],\n",
       "       [ 3.1253112 ,  9.0087146 ],\n",
       "       [ 3.1253112 ,  7.5124424 ],\n",
       "       [ 3.41264108,  6.97712418],\n",
       "       [ 2.99010753,  7.5124424 ],\n",
       "       [ 3.1253112 ,  6.35896825],\n",
       "       [ 3.11077586,  6.35896825],\n",
       "       [ 3.81597633,  7.27016667],\n",
       "       [ 3.2078125 ,  6.35896825],\n",
       "       [ 3.11077586,  6.9597561 ],\n",
       "       [ 3.81597633,  7.5124424 ],\n",
       "       [ 2.99010753,  7.5124424 ],\n",
       "       [ 3.11077586,  6.35896825],\n",
       "       [ 3.53296943,  7.27016667],\n",
       "       [ 3.11077586, 10.56132075],\n",
       "       [ 3.1253112 ,  6.35896825],\n",
       "       [ 3.1253112 ,  7.27016667],\n",
       "       [ 3.11077586,  7.27016667],\n",
       "       [ 2.99010753,  7.5124424 ],\n",
       "       [ 3.53296943,  6.35896825],\n",
       "       [ 3.11077586,  7.5124424 ],\n",
       "       [ 4.32105263,  5.14304348],\n",
       "       [ 3.1253112 ,  7.27016667],\n",
       "       [ 3.2078125 ,  6.35896825],\n",
       "       [ 3.53296943,  5.27442748],\n",
       "       [ 4.32568807,  5.27442748],\n",
       "       [ 4.65052448,  5.27442748],\n",
       "       [ 4.22452519,  5.14304348],\n",
       "       [ 4.22452519,  6.35896825],\n",
       "       [ 3.53296943,  6.9597561 ],\n",
       "       [ 3.53296943,  5.27442748],\n",
       "       [ 4.22452519,  6.35543103],\n",
       "       [ 3.11077586,  5.35416667],\n",
       "       [ 4.65052448,  3.41916244],\n",
       "       [ 4.32568807,  4.9675    ],\n",
       "       [ 3.81597633,  6.35896825],\n",
       "       [ 4.32105263,  5.27442748],\n",
       "       [ 4.22452519,  5.35416667],\n",
       "       [ 4.32568807,  3.41916244],\n",
       "       [ 4.61587744,  5.14304348],\n",
       "       [ 3.53296943,  5.27442748],\n",
       "       [ 4.32105263,  4.9675    ],\n",
       "       [ 4.32105263,  4.9675    ],\n",
       "       [ 4.61587744,  4.9675    ],\n",
       "       [ 4.22452519,  4.9675    ],\n",
       "       [ 4.32105263,  4.9675    ],\n",
       "       [ 4.32105263,  4.9675    ],\n",
       "       [ 4.22452519,  4.74210526],\n",
       "       [ 4.32105263,  4.74210526],\n",
       "       [ 4.32105263,  5.14304348],\n",
       "       [ 3.53296943,  4.63968254],\n",
       "       [ 3.81597633,  6.97712418],\n",
       "       [ 3.2078125 ,  6.35896825],\n",
       "       [ 4.65052448,  4.9675    ],\n",
       "       [ 3.53296943,  4.63968254],\n",
       "       [ 3.53296943,  4.63968254],\n",
       "       [ 4.22452519,  4.9675    ],\n",
       "       [ 3.53296943,  4.74210526],\n",
       "       [ 4.32105263,  5.14304348],\n",
       "       [ 4.22452519,  5.14304348],\n",
       "       [ 4.32105263,  4.9675    ],\n",
       "       [ 4.32568807,  4.9675    ],\n",
       "       [ 3.41264108,  5.35416667],\n",
       "       [ 4.32105263,  4.74210526],\n",
       "       [ 4.32105263,  4.9675    ],\n",
       "       [ 4.61587744,  3.41916244],\n",
       "       [ 4.32568807,  4.63968254],\n",
       "       [ 4.32105263,  4.9675    ],\n",
       "       [ 4.22452519,  5.27442748],\n",
       "       [ 3.81597633,  6.35896825],\n",
       "       [ 4.32105263,  4.9675    ],\n",
       "       [ 3.53296943,  6.9597561 ],\n",
       "       [ 4.32105263,  4.74210526],\n",
       "       [ 4.32105263,  4.9675    ],\n",
       "       [ 3.53296943,  4.63968254],\n",
       "       [ 4.22452519,  6.35896825],\n",
       "       [ 4.22452519,  5.27442748],\n",
       "       [ 4.22452519,  5.27442748],\n",
       "       [ 4.32105263,  4.68760331],\n",
       "       [ 3.53296943,  5.27442748],\n",
       "       [ 4.32105263,  4.9675    ],\n",
       "       [ 4.22452519,  6.35896825],\n",
       "       [ 3.1253112 ,  6.97712418],\n",
       "       [ 5.48721805,  5.14304348],\n",
       "       [ 4.22452519,  6.35896825],\n",
       "       [ 4.22452519,  5.35416667],\n",
       "       [ 4.61587744,  4.9675    ],\n",
       "       [ 4.32568807,  5.14304348],\n",
       "       [ 4.32568807,  6.35896825],\n",
       "       [ 4.32105263,  3.41916244],\n",
       "       [ 4.32568807,  4.63968254],\n",
       "       [ 3.11077586,  5.35416667],\n",
       "       [ 4.32568807,  5.27442748],\n",
       "       [ 4.61587744,  4.63968254],\n",
       "       [ 4.65052448,  2.93484225],\n",
       "       [ 4.58378378,  3.06915888],\n",
       "       [ 4.22452519,  5.14304348],\n",
       "       [ 4.65052448,  4.68760331],\n",
       "       [ 4.32568807,  3.41916244],\n",
       "       [ 4.32568807,  3.41916244],\n",
       "       [ 4.32105263,  4.9675    ],\n",
       "       [ 4.32568807,  3.27394958],\n",
       "       [ 4.32568807,  3.27394958],\n",
       "       [ 4.61587744,  4.74210526],\n",
       "       [ 4.65052448,  3.41916244],\n",
       "       [ 5.05738476,  3.41916244],\n",
       "       [ 4.65052448,  3.06915888],\n",
       "       [ 4.65052448,  3.06915888],\n",
       "       [ 4.32105263,  4.74210526],\n",
       "       [ 4.32105263,  4.9675    ],\n",
       "       [ 4.65052448,  3.41916244],\n",
       "       [ 3.53296943,  4.63968254],\n",
       "       [ 4.61587744,  3.41916244],\n",
       "       [ 4.32568807,  5.27442748],\n",
       "       [ 4.32568807,  4.9675    ],\n",
       "       [ 4.61587744,  3.27394958],\n",
       "       [ 4.61587744,  4.9675    ],\n",
       "       [ 3.53296943,  4.63968254],\n",
       "       [ 3.83119266,  5.27442748],\n",
       "       [ 3.53296943,  5.14304348],\n",
       "       [ 4.61587744,  4.9675    ],\n",
       "       [ 5.48721805,  5.14304348],\n",
       "       [ 4.32568807,  5.14304348],\n",
       "       [ 4.61587744,  6.35896825],\n",
       "       [ 4.32568807,  4.9675    ],\n",
       "       [ 4.22452519,  4.9675    ],\n",
       "       [ 4.32568807,  4.9675    ],\n",
       "       [ 5.30892473,  3.27394958],\n",
       "       [ 4.65052448,  4.89430894],\n",
       "       [ 4.61587744,  3.41916244],\n",
       "       [ 4.65052448,  4.68760331],\n",
       "       [ 4.61587744,  3.41916244],\n",
       "       [ 4.32568807,  4.63968254],\n",
       "       [ 5.48721805,  3.41916244],\n",
       "       [ 4.32568807,  3.41916244],\n",
       "       [ 3.53296943,  5.27442748],\n",
       "       [ 3.53296943,  6.35896825],\n",
       "       [ 4.61587744,  3.41916244],\n",
       "       [ 4.32105263,  4.9675    ],\n",
       "       [ 4.32568807,  3.41916244],\n",
       "       [ 3.11077586,  6.35896825],\n",
       "       [ 3.11077586,  4.68760331],\n",
       "       [ 4.61587744,  3.41916244],\n",
       "       [ 4.61587744,  3.27394958],\n",
       "       [ 3.11077586,  4.63968254],\n",
       "       [ 4.61587744,  6.35896825],\n",
       "       [ 4.32105263,  5.27442748],\n",
       "       [ 4.65052448,  3.27394958],\n",
       "       [ 4.61587744,  3.27394958],\n",
       "       [ 4.61587744,  4.9675    ],\n",
       "       [ 3.53296943,  6.35896825],\n",
       "       [ 3.41264108,  6.35896825],\n",
       "       [ 4.65052448,  4.89430894],\n",
       "       [ 4.61587744,  3.27394958],\n",
       "       [ 3.1253112 ,  7.27016667],\n",
       "       [ 4.32105263,  4.74210526],\n",
       "       [ 5.16357616,  3.06915888],\n",
       "       [ 5.48721805,  2.93484225],\n",
       "       [ 5.30892473,  2.93484225],\n",
       "       [ 4.32568807,  2.93484225],\n",
       "       [ 5.30892473,  2.93484225],\n",
       "       [ 5.16357616,  3.41916244],\n",
       "       [ 5.16357616,  3.06915888],\n",
       "       [ 5.16357616,  2.93484225],\n",
       "       [ 5.48721805,  2.93484225],\n",
       "       [ 4.65052448,  3.27394958]])"
      ]
     },
     "execution_count": 57,
     "metadata": {},
     "output_type": "execute_result"
    }
   ],
   "source": [
    "Y_test"
   ]
  },
  {
   "cell_type": "code",
   "execution_count": null,
   "metadata": {},
   "outputs": [],
   "source": [
    "l2dists_mean, l2dists = l2_dist((preds[:, 0], preds[:, 1]), (Y_test[:, 0] , Y_test[:, 0]))\n",
    "print(l2dists_mean)"
   ]
  },
  {
   "cell_type": "code",
   "execution_count": 59,
   "metadata": {},
   "outputs": [
    {
     "data": {
      "image/png": "[encoded data removed]",
      "text/plain": [
       "<Figure size 432x288 with 1 Axes>"
      ]
     },
     "metadata": {},
     "output_type": "display_data"
    }
   ],
   "source": [
    "import numpy as np \n",
    "sortedl2_deep = np.sort(l2dists)\n",
    "prob_deep = 1. * np.arange(len(sortedl2_deep))/(len(sortedl2_deep) - 1)\n",
    "fig, ax = plt.subplots()\n",
    "lg1, = ax.plot(sortedl2_deep, prob_deep, color='black')\n",
    "plt.title('CDF of Euclidean distance error')\n",
    "plt.xlabel('Distance (m)')\n",
    "plt.ylabel('Probability')\n",
    "plt.grid(True)\n",
    "gridlines = ax.get_xgridlines() + ax.get_ygridlines()\n",
    "for line in gridlines:\n",
    "    line.set_linestyle('-.')\n",
    "\n",
    "plt.savefig('Figure_CDF_error.png', dpi=300)\n",
    "plt.show()\n",
    "plt.close()"
   ]
  },
  {
   "cell_type": "code",
   "execution_count": null,
   "metadata": {},
   "outputs": [],
   "source": []
  }
 ],
 "metadata": {
  "kernelspec": {
   "display_name": "Python 3",
   "language": "python",
   "name": "python3"
  },
  "language_info": {
   "codemirror_mode": {
    "name": "ipython",
    "version": 3
   },
   "file_extension": ".py",
   "mimetype": "text/x-python",
   "name": "python",
   "nbconvert_exporter": "python",
   "pygments_lexer": "ipython3",
   "version": "3.6.5"
  }
 },
 "nbformat": 4,
 "nbformat_minor": 2
}
