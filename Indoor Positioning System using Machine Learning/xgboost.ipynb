{
 "cells": [
  {
   "cell_type": "code",
   "execution_count": 1,
   "metadata": {},
   "outputs": [],
   "source": [
    "import xgboost as xgb\n",
    "from sklearn.metrics import mean_squared_error\n",
    "import pandas as pd\n",
    "import numpy as np\n",
    "from sklearn.metrics import mean_squared_error\n",
    "from sklearn.metrics import mean_absolute_error"
   ]
  },
  {
   "cell_type": "code",
   "execution_count": 2,
   "metadata": {},
   "outputs": [
    {
     "data": {
      "text/plain": [
       "(1916, 10)"
      ]
     },
     "execution_count": 2,
     "metadata": {},
     "output_type": "execute_result"
    }
   ],
   "source": [
    "df =pd.read_csv('beacons.csv')\n",
    "df.shape"
   ]
  },
  {
   "cell_type": "code",
   "execution_count": 3,
   "metadata": {},
   "outputs": [],
   "source": [
    "X =  df.iloc[:1700,3:]\n",
    "y =   df.iloc[:1700,1:3]\n",
    "X1 =  df.iloc[1700:,3:]\n",
    "y1 =   df.iloc[1700:,1:3]"
   ]
  },
  {
   "cell_type": "code",
   "execution_count": 4,
   "metadata": {},
   "outputs": [
    {
     "data": {
      "text/plain": [
       "0       5.0\n",
       "1       5.0\n",
       "2       5.0\n",
       "3       5.0\n",
       "4       5.0\n",
       "       ... \n",
       "1695    5.4\n",
       "1696    5.4\n",
       "1697    5.4\n",
       "1698    5.4\n",
       "1699    5.4\n",
       "Name: x, Length: 1700, dtype: float64"
      ]
     },
     "execution_count": 4,
     "metadata": {},
     "output_type": "execute_result"
    }
   ],
   "source": [
    "y['x']"
   ]
  },
  {
   "cell_type": "code",
   "execution_count": 5,
   "metadata": {},
   "outputs": [
    {
     "name": "stderr",
     "output_type": "stream",
     "text": [
      "C:\\Users\\poulr\\Anaconda32\\lib\\site-packages\\xgboost\\core.py:587: FutureWarning: Series.base is deprecated and will be removed in a future version\n",
      "  if getattr(data, 'base', None) is not None and \\\n",
      "C:\\Users\\poulr\\Anaconda32\\lib\\site-packages\\xgboost\\core.py:588: FutureWarning: Series.base is deprecated and will be removed in a future version\n",
      "  data.base is not None and isinstance(data, np.ndarray) \\\n"
     ]
    },
    {
     "name": "stdout",
     "output_type": "stream",
     "text": [
      "[11:52:28] WARNING: C:/Jenkins/workspace/xgboost-win64_release_0.90/src/objective/regression_obj.cu:152: reg:linear is now deprecated in favor of reg:squarederror.\n"
     ]
    },
    {
     "data": {
      "text/plain": [
       "XGBRegressor(alpha=10, base_score=0.5, booster='gbtree', colsample_bylevel=1,\n",
       "             colsample_bynode=1, colsample_bytree=0.3, gamma=0,\n",
       "             importance_type='gain', learning_rate=1.0, max_delta_step=0,\n",
       "             max_depth=10, min_child_weight=1, missing=None, n_estimators=1000,\n",
       "             n_jobs=1, nthread=None, objective='reg:linear', random_state=0,\n",
       "             reg_alpha=0, reg_lambda=1, scale_pos_weight=1, seed=None,\n",
       "             silent=None, subsample=1, verbosity=1)"
      ]
     },
     "execution_count": 5,
     "metadata": {},
     "output_type": "execute_result"
    }
   ],
   "source": [
    "xg_reg = xgb.XGBRegressor( \n",
    "    objective ='reg:linear',\n",
    "    colsample_bytree = 0.3, \n",
    "    alpha = 10, \n",
    "    max_depth=10,\n",
    "    n_estimators=1000,\n",
    "    learning_rate=1.0\n",
    ")\n",
    "xg_reg.fit(X, y['x'])"
   ]
  },
  {
   "cell_type": "code",
   "execution_count": 6,
   "metadata": {},
   "outputs": [
    {
     "name": "stderr",
     "output_type": "stream",
     "text": [
      "C:\\Users\\poulr\\Anaconda32\\lib\\site-packages\\xgboost\\core.py:587: FutureWarning: Series.base is deprecated and will be removed in a future version\n",
      "  if getattr(data, 'base', None) is not None and \\\n",
      "C:\\Users\\poulr\\Anaconda32\\lib\\site-packages\\xgboost\\core.py:588: FutureWarning: Series.base is deprecated and will be removed in a future version\n",
      "  data.base is not None and isinstance(data, np.ndarray) \\\n"
     ]
    },
    {
     "name": "stdout",
     "output_type": "stream",
     "text": [
      "[11:52:29] WARNING: C:/Jenkins/workspace/xgboost-win64_release_0.90/src/objective/regression_obj.cu:152: reg:linear is now deprecated in favor of reg:squarederror.\n"
     ]
    },
    {
     "data": {
      "text/plain": [
       "XGBRegressor(alpha=10, base_score=0.5, booster='gbtree', colsample_bylevel=1,\n",
       "             colsample_bynode=1, colsample_bytree=0.3, gamma=0,\n",
       "             importance_type='gain', learning_rate=1.0, max_delta_step=0,\n",
       "             max_depth=10, min_child_weight=1, missing=None, n_estimators=1000,\n",
       "             n_jobs=1, nthread=None, objective='reg:linear', random_state=0,\n",
       "             reg_alpha=0, reg_lambda=1, scale_pos_weight=1, seed=None,\n",
       "             silent=None, subsample=1, verbosity=1)"
      ]
     },
     "execution_count": 6,
     "metadata": {},
     "output_type": "execute_result"
    }
   ],
   "source": [
    "xg_reg1 = xgb.XGBRegressor( \n",
    "    objective ='reg:linear',\n",
    "    colsample_bytree = 0.3, \n",
    "    alpha = 10, \n",
    "    max_depth=10,\n",
    "    n_estimators=1000,\n",
    "    learning_rate=1.0\n",
    ")\n",
    "xg_reg1.fit(X, y['y'])"
   ]
  },
  {
   "cell_type": "code",
   "execution_count": 7,
   "metadata": {},
   "outputs": [
    {
     "data": {
      "text/plain": [
       "4.359236830342893"
      ]
     },
     "execution_count": 7,
     "metadata": {},
     "output_type": "execute_result"
    }
   ],
   "source": [
    "predictions = xg_reg.predict(X1)\n",
    "prediction= xg_reg1.predict(X1)\n",
    "\n",
    "predictions = pd.DataFrame(predictions)\n",
    "predictions = predictions.rename(columns={0:'a'})\n",
    "prediction = pd.DataFrame(prediction)\n",
    "prediction = prediction.rename(columns={0:'b'})\n",
    "\n",
    "y1 =y1.reset_index()\n",
    "y1['a'] = predictions['a']\n",
    "y1['b'] = prediction['b']\n",
    "\n",
    "y1['distance']=np.sqrt((y1['x']-y1['a'])**2+(y1['y']-y1['b'])**2)\n",
    "y1['distance'].mean()"
   ]
  },
  {
   "cell_type": "code",
   "execution_count": 8,
   "metadata": {},
   "outputs": [],
   "source": [
    "from sklearn import metrics\n",
    "\n",
    "maex = metrics.mean_absolute_error(y1['x'],y1['a'])\n",
    "maey= metrics.mean_absolute_error(y1['y'],y1['b'])\n",
    "maeauto = (maex + maey)/2"
   ]
  },
  {
   "cell_type": "code",
   "execution_count": 9,
   "metadata": {},
   "outputs": [],
   "source": [
    "msex = metrics.mean_squared_error(y1['x'],y1['a'])\n",
    "msey= metrics.mean_squared_error(y1['y'],y1['b'])\n",
    "msemain = (msex + msey)/2"
   ]
  },
  {
   "cell_type": "code",
   "execution_count": 10,
   "metadata": {},
   "outputs": [],
   "source": [
    "rmsex = np.sqrt(metrics.mean_squared_error(y1['x'],y1['a']))\n",
    "rmsey= np.sqrt(metrics.mean_squared_error(y1['y'],y1['b']))\n",
    "rmsemain = (rmsex + rmsey)/2"
   ]
  },
  {
   "cell_type": "code",
   "execution_count": 11,
   "metadata": {},
   "outputs": [
    {
     "name": "stdout",
     "output_type": "stream",
     "text": [
      "Mean absolute error :  2.8111100593788754\n",
      "Mean squared error :  13.634827270690904\n",
      "Root Mean squared error :  3.6802861963029736\n"
     ]
    }
   ],
   "source": [
    "print(\"Mean absolute error : \", maeauto.mean())\n",
    "print(\"Mean squared error : \", msemain.mean())\n",
    "print(\"Root Mean squared error : \", rmsemain.mean())"
   ]
  },
  {
   "cell_type": "code",
   "execution_count": 12,
   "metadata": {},
   "outputs": [],
   "source": [
    "a = pd.DataFrame(xg_reg1.predict(X1))\n",
    "b = pd.DataFrame(xg_reg.predict(X1))\n",
    "b = b.rename(columns={0:'bc1'})\n",
    "c = pd.concat([a,b],axis=1)\n",
    "c = c.rename(columns={0:'bc2'})\n",
    "preds = c.values\n",
    "\n",
    "\n",
    "Y_test = y1[['a','b']]\n",
    "Y_test = Y_test.values"
   ]
  },
  {
   "cell_type": "code",
   "execution_count": 13,
   "metadata": {},
   "outputs": [
    {
     "name": "stdout",
     "output_type": "stream",
     "text": [
      "4.491798\n"
     ]
    }
   ],
   "source": [
    "def l2_dist(p1, p2):\n",
    "    x1,y1 = p1\n",
    "    x2,y2 = p2\n",
    "    x1, y1 = np.array(x1), np.array(y1)\n",
    "    x2, y2 = np.array(x2), np.array(y2)\n",
    "    dx = x1 - x2\n",
    "    dy = y1 - y2\n",
    "    dx = dx ** 2\n",
    "    dy = dy ** 2\n",
    "    dists = dx + dy\n",
    "    dists = np.sqrt(dists)\n",
    "    return np.mean(dists), dists\n",
    "\n",
    "#preds = ada_reg1.predict(X1)\n",
    "l2dists_mean, l2dists = l2_dist((preds[:, 0], preds[:, 1]), (Y_test[:, 0] , Y_test[:, 0]))\n",
    "print(l2dists_mean)"
   ]
  },
  {
   "cell_type": "code",
   "execution_count": 14,
   "metadata": {},
   "outputs": [
    {
     "data": {
      "text/plain": [
       "array([[-7.83222556e-01,  1.13359079e+01],\n",
       "       [ 5.40000582e+00,  1.01997299e+01],\n",
       "       [ 1.32793868e+00,  1.17377510e+01],\n",
       "       [ 6.41100526e-01,  7.30274963e+00],\n",
       "       [ 1.35990882e+00,  4.80341053e+00],\n",
       "       [ 1.84539640e+00,  4.98048592e+00],\n",
       "       [ 2.20190001e+00,  1.00503569e+01],\n",
       "       [ 2.49712706e+00,  8.50547314e+00],\n",
       "       [ 2.66527486e+00,  1.15443726e+01],\n",
       "       [ 2.67659330e+00,  9.42125320e+00],\n",
       "       [ 5.47344112e+00,  1.26112738e+01],\n",
       "       [ 1.86000395e+00,  9.84947109e+00],\n",
       "       [ 2.94022107e+00,  1.49030838e+01],\n",
       "       [ 2.35960770e+00,  1.69584999e+01],\n",
       "       [ 2.29151440e+00,  1.69041824e+01],\n",
       "       [ 3.01894784e+00,  1.19564247e+01],\n",
       "       [ 7.38620043e-01,  1.30669632e+01],\n",
       "       [ 5.99137545e+00,  9.77534866e+00],\n",
       "       [ 2.56495452e+00,  5.87239790e+00],\n",
       "       [ 5.62682962e+00,  7.06545925e+00],\n",
       "       [ 2.38290930e+00,  7.56156492e+00],\n",
       "       [ 2.98863125e+00,  1.25638657e+01],\n",
       "       [ 2.91916871e+00,  8.16599274e+00],\n",
       "       [ 2.47365999e+00,  3.64282990e+00],\n",
       "       [ 4.26467514e+00,  1.14212141e+01],\n",
       "       [ 3.15617228e+00,  1.30416517e+01],\n",
       "       [ 2.29151440e+00,  1.69041824e+01],\n",
       "       [ 2.15648174e+00,  6.57639122e+00],\n",
       "       [ 1.01808417e+00,  8.90684128e+00],\n",
       "       [ 7.37622321e-01,  9.53906059e+00],\n",
       "       [ 2.53577352e+00,  5.75588179e+00],\n",
       "       [ 2.64355946e+00,  4.24442291e+00],\n",
       "       [ 5.80919266e+00,  6.19626760e+00],\n",
       "       [ 4.44077253e+00,  7.27952051e+00],\n",
       "       [ 3.57123733e+00,  3.93160081e+00],\n",
       "       [ 2.76222348e-01,  5.68448782e+00],\n",
       "       [-2.28368342e-01,  1.65490685e+01],\n",
       "       [ 1.12422681e+00,  1.47072906e+01],\n",
       "       [ 3.54248071e+00,  8.51906586e+00],\n",
       "       [ 5.95840394e-01,  1.02674904e+01],\n",
       "       [ 3.13194585e+00,  1.54383125e+01],\n",
       "       [ 2.14828682e+00,  6.54824734e+00],\n",
       "       [ 3.43680453e+00,  8.91551781e+00],\n",
       "       [ 3.89929366e+00, -3.79124069e+00],\n",
       "       [ 1.54181647e+00,  7.40703869e+00],\n",
       "       [ 3.18187761e+00,  9.04079342e+00],\n",
       "       [ 8.11357117e+00,  6.65614796e+00],\n",
       "       [ 7.37622321e-01,  9.53906059e+00],\n",
       "       [ 7.47084141e-01,  5.93993282e+00],\n",
       "       [ 2.64355946e+00,  4.24442291e+00],\n",
       "       [ 5.80919266e+00,  6.19626760e+00],\n",
       "       [ 4.44077253e+00,  7.27952051e+00],\n",
       "       [ 3.03945684e+00,  5.32310534e+00],\n",
       "       [ 1.69600689e+00,  1.02319632e+01],\n",
       "       [ 3.14071822e+00,  1.42411861e+01],\n",
       "       [ 2.24598432e+00,  8.05044651e+00],\n",
       "       [ 3.67462230e+00,  5.46606493e+00],\n",
       "       [ 4.49445963e+00,  6.19342947e+00],\n",
       "       [ 3.33192730e+00,  9.04944229e+00],\n",
       "       [ 3.07665443e+00,  2.80414891e+00],\n",
       "       [ 4.93712664e+00,  1.75289464e+00],\n",
       "       [ 2.47930503e+00,  7.14037466e+00],\n",
       "       [ 3.59676671e+00,  5.46896219e+00],\n",
       "       [ 2.20284009e+00,  6.30897570e+00],\n",
       "       [ 1.01532793e+00,  8.92719650e+00],\n",
       "       [ 2.29744434e+00,  2.60949552e-01],\n",
       "       [ 3.94213486e+00,  5.24257183e+00],\n",
       "       [ 7.38425314e-01,  8.63772106e+00],\n",
       "       [ 4.27922916e+00,  1.59723577e+01],\n",
       "       [ 4.65352345e+00,  3.49484110e+00],\n",
       "       [ 4.91754103e+00,  3.40236044e+00],\n",
       "       [ 4.10385323e+00,  3.03860497e+00],\n",
       "       [ 2.60549998e+00,  1.08345346e+01],\n",
       "       [ 3.49444914e+00,  4.67211056e+00],\n",
       "       [ 1.00953293e+00, -3.19941783e+00],\n",
       "       [ 2.17138839e+00,  2.62526035e+00],\n",
       "       [ 6.67158175e+00,  5.80753803e+00],\n",
       "       [ 1.16498566e+00,  1.72567677e+00],\n",
       "       [ 4.01031733e+00,  2.00891590e+00],\n",
       "       [ 2.20205593e+00,  1.48627436e+00],\n",
       "       [ 3.28202248e+00,  4.24972343e+00],\n",
       "       [ 5.94192076e+00,  7.29870605e+00],\n",
       "       [ 4.92677355e+00,  1.21651864e+00],\n",
       "       [ 4.08906126e+00,  7.20649385e+00],\n",
       "       [ 6.32197857e+00,  7.27913189e+00],\n",
       "       [ 3.84740615e+00,  1.04564476e+01],\n",
       "       [ 9.76944923e-01,  6.73893642e+00],\n",
       "       [ 3.57637382e+00, -2.73861051e-01],\n",
       "       [ 3.76007605e+00,  6.84264612e+00],\n",
       "       [ 1.00738125e+01, -1.32639039e+00],\n",
       "       [ 1.11107874e+00,  8.91849899e+00],\n",
       "       [ 1.36431599e+00,  2.20325089e+00],\n",
       "       [ 4.64518976e+00,  5.83594847e+00],\n",
       "       [ 4.12803364e+00, -1.58893228e-01],\n",
       "       [ 6.65533876e+00,  9.09417689e-01],\n",
       "       [ 6.95092010e+00,  8.16588688e+00],\n",
       "       [ 8.00080490e+00,  1.50117886e+00],\n",
       "       [ 7.35996485e+00,  6.53370953e+00],\n",
       "       [ 6.39529037e+00, -1.60166717e+00],\n",
       "       [ 3.22699785e+00,  6.41316795e+00],\n",
       "       [ 3.96778870e+00,  7.40822411e+00],\n",
       "       [ 3.65981483e+00,  1.51742256e+00],\n",
       "       [ 6.74366951e+00,  7.22729969e+00],\n",
       "       [ 4.27686691e+00,  3.28753614e+00],\n",
       "       [ 9.11114991e-01,  1.54974544e+00],\n",
       "       [ 2.67566919e+00, -1.36503172e+00],\n",
       "       [ 3.66564298e+00,  2.20662880e+00],\n",
       "       [ 1.89282489e+00,  4.60465336e+00],\n",
       "       [ 5.16347933e+00, -5.75843525e+00],\n",
       "       [ 3.45146227e+00,  6.29017639e+00],\n",
       "       [ 4.00280476e+00,  3.92355418e+00],\n",
       "       [ 3.94843006e+00,  1.35267401e+00],\n",
       "       [ 1.07915509e+00,  5.44740391e+00],\n",
       "       [ 4.40379143e+00,  2.59028029e+00],\n",
       "       [ 4.35738659e+00,  2.13108826e+00],\n",
       "       [ 5.25367880e+00,  5.75551605e+00],\n",
       "       [ 2.09086609e+00, -3.44631791e-01],\n",
       "       [ 8.99871731e+00, -1.49941444e-03],\n",
       "       [ 8.69936943e+00,  5.37067652e-04],\n",
       "       [ 2.77805924e+00, -1.06436253e-01],\n",
       "       [ 1.07413137e+00, -5.43900061e+00],\n",
       "       [ 6.77448153e-01,  8.08529663e+00],\n",
       "       [ 8.20005798e+00,  6.42955303e-04],\n",
       "       [ 7.99970722e+00,  6.43193722e-04],\n",
       "       [ 3.00019097e+00,  6.15647125e+00],\n",
       "       [ 2.76176572e+00,  6.07341099e+00],\n",
       "       [-3.48123848e-01,  2.40717030e+00],\n",
       "       [ 7.20004177e+00, -4.94122505e-05],\n",
       "       [ 7.00060987e+00,  5.23030758e-04],\n",
       "       [ 6.99908066e+00,  2.00605333e-01],\n",
       "       [ 3.52638650e+00,  9.41771412e+00],\n",
       "       [ 4.41614866e+00,  6.57919407e+00],\n",
       "       [ 1.81591487e+00,  5.82733822e+00],\n",
       "       [ 7.00022507e+00,  1.00008726e+00],\n",
       "       [ 7.00088215e+00,  1.19976449e+00],\n",
       "       [ 1.39085054e+00,  4.69776964e+00],\n",
       "       [ 5.65529585e+00,  2.60737157e+00],\n",
       "       [ 4.00113964e+00,  4.35096312e+00],\n",
       "       [ 7.00436783e+00,  1.99625480e+00],\n",
       "       [ 7.00154591e+00,  2.19947004e+00],\n",
       "       [ 3.82909346e+00,  8.98674011e+00],\n",
       "       [ 2.85479903e+00,  6.83940697e+00],\n",
       "       [ 5.14234543e+00,  4.07584286e+00],\n",
       "       [ 5.46797562e+00,  1.37165320e+00],\n",
       "       [ 4.64109033e-01,  9.38506413e+00],\n",
       "       [ 8.17215157e+00,  4.09046364e+00],\n",
       "       [ 3.50064611e+00,  8.12355614e+00],\n",
       "       [ 3.14746261e+00, -1.02237761e-01],\n",
       "       [ 5.20426214e-01,  8.36052322e+00],\n",
       "       [ 5.04711294e+00,  6.49697208e+00],\n",
       "       [ 3.83365703e+00,  4.77182722e+00],\n",
       "       [ 2.19874048e+00,  4.28289938e+00],\n",
       "       [ 2.35772729e+00,  9.51877689e+00],\n",
       "       [ 5.97398806e+00,  8.87080073e-01],\n",
       "       [ 2.21550822e+00,  9.85913658e+00],\n",
       "       [ 4.26411676e+00,  3.98255587e+00],\n",
       "       [ 8.01966095e+00,  1.32608175e+00],\n",
       "       [ 6.52004051e+00,  1.52177095e+00],\n",
       "       [ 1.81437695e+00,  3.28866720e+00],\n",
       "       [ 5.00001955e+00,  1.49985814e+00],\n",
       "       [ 3.98086572e+00,  2.53394651e+00],\n",
       "       [ 2.68003249e+00, -9.62358952e-01],\n",
       "       [ 2.49572802e+00,  2.99595475e+00],\n",
       "       [ 2.27234507e+00,  2.82861185e+00],\n",
       "       [ 3.03531647e+00,  4.35408783e+00],\n",
       "       [-3.74869108e-01,  5.81218958e+00],\n",
       "       [ 4.95382929e+00, -2.81433868e+00],\n",
       "       [ 1.46886015e+00,  1.59065628e+00],\n",
       "       [ 2.99823904e+00,  6.42895126e+00],\n",
       "       [ 1.66249585e+00,  6.92629814e+00],\n",
       "       [ 5.48941803e+00,  2.59745359e-01],\n",
       "       [ 7.00022507e+00,  1.00008726e+00],\n",
       "       [ 5.28203773e+00,  5.84567833e+00],\n",
       "       [ 4.17492580e+00,  7.24074364e+00],\n",
       "       [ 3.74154711e+00, -3.26099396e+00],\n",
       "       [ 3.87491202e+00,  7.51637363e+00],\n",
       "       [ 4.66276121e+00, -9.90573168e-01],\n",
       "       [ 5.54802227e+00,  2.04675007e+00],\n",
       "       [ 4.00129128e+00,  2.19957066e+00],\n",
       "       [ 5.28446293e+00, -2.82477498e+00],\n",
       "       [ 6.20088196e+00, -1.17760897e-03],\n",
       "       [ 5.99984503e+00, -2.77161598e-05],\n",
       "       [ 4.36388588e+00,  9.23139668e+00],\n",
       "       [ 3.32305002e+00,  4.90342140e+00],\n",
       "       [ 8.56363106e+00,  6.91594601e+00],\n",
       "       [ 5.19954586e+00,  1.11865997e-03],\n",
       "       [ 5.00001001e+00,  6.51806593e-04],\n",
       "       [ 6.12536383e+00,  4.08612633e+00],\n",
       "       [ 3.43183923e+00, -1.04032207e+00],\n",
       "       [ 4.19750988e-01, -3.50808144e-01],\n",
       "       [ 4.19939709e+00, -4.70876694e-05],\n",
       "       [ 4.00024891e+00,  7.29531050e-04],\n",
       "       [ 4.00042868e+00,  1.99826658e-01],\n",
       "       [ 1.79842389e+00,  6.79623413e+00],\n",
       "       [ 3.29428935e+00,  2.27366400e+00],\n",
       "       [ 2.39642763e+00,  3.02392745e+00],\n",
       "       [ 3.99899936e+00,  1.00031078e+00],\n",
       "       [ 3.99989843e+00,  1.20003963e+00],\n",
       "       [ 3.65241218e+00,  5.21433449e+00],\n",
       "       [ 5.10410213e+00,  4.34421921e+00],\n",
       "       [ 1.66349781e+00,  3.37561083e+00],\n",
       "       [ 3.99990821e+00,  1.99896955e+00],\n",
       "       [ 4.00129128e+00,  2.19957066e+00],\n",
       "       [ 5.04983473e+00, -1.29563594e+00],\n",
       "       [ 4.71695375e+00,  9.81524181e+00],\n",
       "       [ 5.53938484e+00,  6.10021496e+00],\n",
       "       [ 4.84149742e+00,  5.32063901e-01],\n",
       "       [ 3.90621948e+00,  8.77655566e-01],\n",
       "       [ 5.76185513e+00,  2.36156368e+00],\n",
       "       [ 3.08422875e+00,  1.94293714e+00],\n",
       "       [ 8.43481445e+00,  5.11390448e+00],\n",
       "       [ 6.47262049e+00, -1.55353308e+00],\n",
       "       [ 7.11718142e-01,  1.94906384e-01],\n",
       "       [ 5.38161421e+00,  3.75572467e+00],\n",
       "       [ 5.32941914e+00,  4.75479507e+00],\n",
       "       [ 1.31650758e+00, -1.76289964e+00]], dtype=float32)"
      ]
     },
     "execution_count": 14,
     "metadata": {},
     "output_type": "execute_result"
    }
   ],
   "source": [
    "Y_test"
   ]
  },
  {
   "cell_type": "code",
   "execution_count": 15,
   "metadata": {},
   "outputs": [
    {
     "name": "stdout",
     "output_type": "stream",
     "text": [
      "4.491798\n"
     ]
    }
   ],
   "source": [
    "l2dists_mean, l2dists = l2_dist((preds[:, 0], preds[:, 1]), (Y_test[:, 0] , Y_test[:, 0]))\n",
    "print(l2dists_mean)"
   ]
  },
  {
   "cell_type": "code",
   "execution_count": 21,
   "metadata": {},
   "outputs": [
    {
     "data": {
      "image/png": "[encoded data removed]",
      "text/plain": [
       "<Figure size 432x288 with 1 Axes>"
      ]
     },
     "metadata": {},
     "output_type": "display_data"
    }
   ],
   "source": [
    "import numpy as np \n",
    "%matplotlib inline\n",
    "import matplotlib.pyplot as plt\n",
    "sortedl2_deep = np.sort(l2dists)\n",
    "prob_deep = 1. * np.arange(len(sortedl2_deep))/(len(sortedl2_deep) - 1)\n",
    "fig, ax = plt.subplots()\n",
    "lg1, = ax.plot(sortedl2_deep, prob_deep, color='black')\n",
    "plt.title('CDF of Euclidean distance error')\n",
    "plt.xlabel('Distance (m)')\n",
    "plt.ylabel('Probability')\n",
    "plt.grid(True)\n",
    "gridlines = ax.get_xgridlines() + ax.get_ygridlines()\n",
    "for line in gridlines:\n",
    "    line.set_linestyle('-.')\n",
    "\n",
    "plt.savefig('Figure_CDF_error.png', dpi=300)\n",
    "plt.show()\n",
    "plt.close()"
   ]
  },
  {
   "cell_type": "code",
   "execution_count": null,
   "metadata": {},
   "outputs": [],
   "source": []
  }
 ],
 "metadata": {
  "kernelspec": {
   "display_name": "Python 3",
   "language": "python",
   "name": "python3"
  },
  "language_info": {
   "codemirror_mode": {
    "name": "ipython",
    "version": 3
   },
   "file_extension": ".py",
   "mimetype": "text/x-python",
   "name": "python",
   "nbconvert_exporter": "python",
   "pygments_lexer": "ipython3",
   "version": "3.6.5"
  }
 },
 "nbformat": 4,
 "nbformat_minor": 2
}
